{
  "nbformat": 4,
  "nbformat_minor": 0,
  "metadata": {
    "colab": {
      "provenance": [],
      "authorship_tag": "ABX9TyOG45iUkdUuQRFmVuzruKS7",
      "include_colab_link": true
    },
    "kernelspec": {
      "name": "python3",
      "display_name": "Python 3"
    },
    "language_info": {
      "name": "python"
    }
  },
  "cells": [
    {
      "cell_type": "markdown",
      "metadata": {
        "id": "view-in-github",
        "colab_type": "text"
      },
      "source": [
        "<a href=\"https://colab.research.google.com/github/Faiz-Hussain650/Faiz_Project-/blob/main/Final_Project_Hardware_and_Software.ipynb\" target=\"_parent\"><img src=\"https://colab.research.google.com/assets/colab-badge.svg\" alt=\"Open In Colab\"/></a>"
      ]
    },
    {
      "cell_type": "markdown",
      "source": [
        "**DATA** **PREPROCESSING** **and DATA DISCREPTION **\n",
        "\n",
        "---\n",
        "\n"
      ],
      "metadata": {
        "id": "l7KWA0U34rUU"
      }
    },
    {
      "cell_type": "markdown",
      "source": [
        "Importing the Liberies"
      ],
      "metadata": {
        "id": "IxIkWYdF28Ju"
      }
    },
    {
      "cell_type": "code",
      "execution_count": 3,
      "metadata": {
        "id": "q8b27Tce2pjj"
      },
      "outputs": [],
      "source": [
        "import numpy as np\n",
        "import pandas as pd\n",
        "import matplotlib.pyplot as plt\n",
        "%matplotlib inline\n",
        "import seaborn as sns"
      ]
    },
    {
      "cell_type": "code",
      "source": [
        "#function to display basic info for a given dataframe\n",
        "def show_basic_info(df):\n",
        "    print(\"========================================================================================================\")\n",
        "    print(\"HEAD:\")\n",
        "    print(df.head(3))\n",
        "    print(\"--------------------------------------------------------------------------------------------------------\")\n",
        "    print(\"SHAPE:\")\n",
        "    print(df.shape)\n",
        "    print(\"--------------------------------------------------------------------------------------------------------\")\n",
        "    print(\"INFO:\")\n",
        "    print(df.info())\n",
        "    print(\"--------------------------------------------------------------------------------------------------------\")\n",
        "    print(\"DESCRIBE:\")\n",
        "    print(df.describe())\n",
        "    print(\"--------------------------------------------------------------------------------------------------------\")\n",
        "    print(\"========================================================================================================\")"
      ],
      "metadata": {
        "id": "0hML9ymF4Aom"
      },
      "execution_count": 4,
      "outputs": []
    },
    {
      "cell_type": "markdown",
      "source": [
        "**IMPORTING THE DATA SET**\n",
        "\n",
        "---\n",
        "\n",
        "\n",
        "\n",
        "\n"
      ],
      "metadata": {
        "id": "rdd8juh64FFu"
      }
    },
    {
      "cell_type": "code",
      "source": [
        "assessments_df = pd.read_csv('/content/assessments.csv')\n",
        "show_basic_info(assessments_df)"
      ],
      "metadata": {
        "colab": {
          "base_uri": "https://localhost:8080/"
        },
        "id": "65-HvtHl4CkG",
        "outputId": "a8676b0a-7501-4371-bdc6-9083bd772f41"
      },
      "execution_count": 5,
      "outputs": [
        {
          "output_type": "stream",
          "name": "stdout",
          "text": [
            "========================================================================================================\n",
            "HEAD:\n",
            "  code_module code_presentation  id_assessment assessment_type   date  weight\n",
            "0         AAA             2013J           1752             TMA   19.0    10.0\n",
            "1         AAA             2013J           1753             TMA   54.0    20.0\n",
            "2         AAA             2013J           1754             TMA  117.0    20.0\n",
            "--------------------------------------------------------------------------------------------------------\n",
            "SHAPE:\n",
            "(206, 6)\n",
            "--------------------------------------------------------------------------------------------------------\n",
            "INFO:\n",
            "<class 'pandas.core.frame.DataFrame'>\n",
            "RangeIndex: 206 entries, 0 to 205\n",
            "Data columns (total 6 columns):\n",
            " #   Column             Non-Null Count  Dtype  \n",
            "---  ------             --------------  -----  \n",
            " 0   code_module        206 non-null    object \n",
            " 1   code_presentation  206 non-null    object \n",
            " 2   id_assessment      206 non-null    int64  \n",
            " 3   assessment_type    206 non-null    object \n",
            " 4   date               195 non-null    float64\n",
            " 5   weight             206 non-null    float64\n",
            "dtypes: float64(2), int64(1), object(3)\n",
            "memory usage: 9.8+ KB\n",
            "None\n",
            "--------------------------------------------------------------------------------------------------------\n",
            "DESCRIBE:\n",
            "       id_assessment        date      weight\n",
            "count     206.000000  195.000000  206.000000\n",
            "mean    26473.975728  145.005128   20.873786\n",
            "std     10098.625521   76.001119   30.384224\n",
            "min      1752.000000   12.000000    0.000000\n",
            "25%     15023.250000   71.000000    0.000000\n",
            "50%     25364.500000  152.000000   12.500000\n",
            "75%     34891.750000  222.000000   24.250000\n",
            "max     40088.000000  261.000000  100.000000\n",
            "--------------------------------------------------------------------------------------------------------\n",
            "========================================================================================================\n"
          ]
        }
      ]
    },
    {
      "cell_type": "code",
      "source": [
        "courses_df = pd.read_csv('/content/courses.csv')\n",
        "show_basic_info(courses_df)"
      ],
      "metadata": {
        "colab": {
          "base_uri": "https://localhost:8080/"
        },
        "id": "dRRvSUJ15Hzz",
        "outputId": "3dd7c1d5-875d-4089-a3d2-cbc8a9a37c4c"
      },
      "execution_count": 6,
      "outputs": [
        {
          "output_type": "stream",
          "name": "stdout",
          "text": [
            "========================================================================================================\n",
            "HEAD:\n",
            "  code_module code_presentation  module_presentation_length\n",
            "0         AAA             2013J                         268\n",
            "1         AAA             2014J                         269\n",
            "2         BBB             2013J                         268\n",
            "--------------------------------------------------------------------------------------------------------\n",
            "SHAPE:\n",
            "(22, 3)\n",
            "--------------------------------------------------------------------------------------------------------\n",
            "INFO:\n",
            "<class 'pandas.core.frame.DataFrame'>\n",
            "RangeIndex: 22 entries, 0 to 21\n",
            "Data columns (total 3 columns):\n",
            " #   Column                      Non-Null Count  Dtype \n",
            "---  ------                      --------------  ----- \n",
            " 0   code_module                 22 non-null     object\n",
            " 1   code_presentation           22 non-null     object\n",
            " 2   module_presentation_length  22 non-null     int64 \n",
            "dtypes: int64(1), object(2)\n",
            "memory usage: 656.0+ bytes\n",
            "None\n",
            "--------------------------------------------------------------------------------------------------------\n",
            "DESCRIBE:\n",
            "       module_presentation_length\n",
            "count                   22.000000\n",
            "mean                   255.545455\n",
            "std                     13.654677\n",
            "min                    234.000000\n",
            "25%                    241.000000\n",
            "50%                    261.500000\n",
            "75%                    268.000000\n",
            "max                    269.000000\n",
            "--------------------------------------------------------------------------------------------------------\n",
            "========================================================================================================\n"
          ]
        }
      ]
    },
    {
      "cell_type": "code",
      "source": [
        "studentAssessment_df = pd.read_csv('/content/studentAssessment.csv')\n",
        "show_basic_info(studentAssessment_df)"
      ],
      "metadata": {
        "colab": {
          "base_uri": "https://localhost:8080/"
        },
        "id": "50Arqyhz5JaM",
        "outputId": "38e02048-360b-4233-e7f7-4f1d151f7580"
      },
      "execution_count": 7,
      "outputs": [
        {
          "output_type": "stream",
          "name": "stdout",
          "text": [
            "========================================================================================================\n",
            "HEAD:\n",
            "   id_assessment  id_student  date_submitted  is_banked  score\n",
            "0           1752       11391              18          0   78.0\n",
            "1           1752       28400              22          0   70.0\n",
            "2           1752       31604              17          0   72.0\n",
            "--------------------------------------------------------------------------------------------------------\n",
            "SHAPE:\n",
            "(173912, 5)\n",
            "--------------------------------------------------------------------------------------------------------\n",
            "INFO:\n",
            "<class 'pandas.core.frame.DataFrame'>\n",
            "RangeIndex: 173912 entries, 0 to 173911\n",
            "Data columns (total 5 columns):\n",
            " #   Column          Non-Null Count   Dtype  \n",
            "---  ------          --------------   -----  \n",
            " 0   id_assessment   173912 non-null  int64  \n",
            " 1   id_student      173912 non-null  int64  \n",
            " 2   date_submitted  173912 non-null  int64  \n",
            " 3   is_banked       173912 non-null  int64  \n",
            " 4   score           173739 non-null  float64\n",
            "dtypes: float64(1), int64(4)\n",
            "memory usage: 6.6 MB\n",
            "None\n",
            "--------------------------------------------------------------------------------------------------------\n",
            "DESCRIBE:\n",
            "       id_assessment    id_student  date_submitted      is_banked  \\\n",
            "count  173912.000000  1.739120e+05   173912.000000  173912.000000   \n",
            "mean    26553.803556  7.051507e+05      116.032942       0.010977   \n",
            "std      8829.784254  5.523952e+05       71.484148       0.104194   \n",
            "min      1752.000000  6.516000e+03      -11.000000       0.000000   \n",
            "25%     15022.000000  5.044290e+05       51.000000       0.000000   \n",
            "50%     25359.000000  5.852080e+05      116.000000       0.000000   \n",
            "75%     34883.000000  6.344980e+05      173.000000       0.000000   \n",
            "max     37443.000000  2.698588e+06      608.000000       1.000000   \n",
            "\n",
            "               score  \n",
            "count  173739.000000  \n",
            "mean       75.799573  \n",
            "std        18.798107  \n",
            "min         0.000000  \n",
            "25%        65.000000  \n",
            "50%        80.000000  \n",
            "75%        90.000000  \n",
            "max       100.000000  \n",
            "--------------------------------------------------------------------------------------------------------\n",
            "========================================================================================================\n"
          ]
        }
      ]
    },
    {
      "cell_type": "code",
      "source": [
        "studentInfo_df = pd.read_csv('/content/studentInfo.csv')\n",
        "show_basic_info(studentInfo_df)"
      ],
      "metadata": {
        "colab": {
          "base_uri": "https://localhost:8080/"
        },
        "id": "356UTo1s5Jy7",
        "outputId": "687dca16-d8c3-4d14-fb87-c63344d17a43"
      },
      "execution_count": 8,
      "outputs": [
        {
          "output_type": "stream",
          "name": "stdout",
          "text": [
            "========================================================================================================\n",
            "HEAD:\n",
            "  code_module code_presentation  id_student gender                region  \\\n",
            "0         AAA             2013J       11391      M   East Anglian Region   \n",
            "1         AAA             2013J       28400      F              Scotland   \n",
            "2         AAA             2013J       30268      F  North Western Region   \n",
            "\n",
            "       highest_education imd_band age_band  num_of_prev_attempts  \\\n",
            "0       HE Qualification  90-100%     55<=                     0   \n",
            "1       HE Qualification   20-30%    35-55                     0   \n",
            "2  A Level or Equivalent   30-40%    35-55                     0   \n",
            "\n",
            "   studied_credits disability final_result  \n",
            "0              240          N         Pass  \n",
            "1               60          N         Pass  \n",
            "2               60          Y    Withdrawn  \n",
            "--------------------------------------------------------------------------------------------------------\n",
            "SHAPE:\n",
            "(32593, 12)\n",
            "--------------------------------------------------------------------------------------------------------\n",
            "INFO:\n",
            "<class 'pandas.core.frame.DataFrame'>\n",
            "RangeIndex: 32593 entries, 0 to 32592\n",
            "Data columns (total 12 columns):\n",
            " #   Column                Non-Null Count  Dtype \n",
            "---  ------                --------------  ----- \n",
            " 0   code_module           32593 non-null  object\n",
            " 1   code_presentation     32593 non-null  object\n",
            " 2   id_student            32593 non-null  int64 \n",
            " 3   gender                32593 non-null  object\n",
            " 4   region                32593 non-null  object\n",
            " 5   highest_education     32593 non-null  object\n",
            " 6   imd_band              31482 non-null  object\n",
            " 7   age_band              32593 non-null  object\n",
            " 8   num_of_prev_attempts  32593 non-null  int64 \n",
            " 9   studied_credits       32593 non-null  int64 \n",
            " 10  disability            32593 non-null  object\n",
            " 11  final_result          32593 non-null  object\n",
            "dtypes: int64(3), object(9)\n",
            "memory usage: 3.0+ MB\n",
            "None\n",
            "--------------------------------------------------------------------------------------------------------\n",
            "DESCRIBE:\n",
            "         id_student  num_of_prev_attempts  studied_credits\n",
            "count  3.259300e+04          32593.000000     32593.000000\n",
            "mean   7.066877e+05              0.163225        79.758691\n",
            "std    5.491673e+05              0.479758        41.071900\n",
            "min    3.733000e+03              0.000000        30.000000\n",
            "25%    5.085730e+05              0.000000        60.000000\n",
            "50%    5.903100e+05              0.000000        60.000000\n",
            "75%    6.444530e+05              0.000000       120.000000\n",
            "max    2.716795e+06              6.000000       655.000000\n",
            "--------------------------------------------------------------------------------------------------------\n",
            "========================================================================================================\n"
          ]
        }
      ]
    },
    {
      "cell_type": "code",
      "source": [
        "studentRegistration_df = pd.read_csv('/content/studentRegistration.csv')\n",
        "show_basic_info(studentRegistration_df)"
      ],
      "metadata": {
        "colab": {
          "base_uri": "https://localhost:8080/"
        },
        "id": "MDMUpZLC5NBF",
        "outputId": "322692c4-9eab-463b-dd1e-f1dcea71a1e2"
      },
      "execution_count": 9,
      "outputs": [
        {
          "output_type": "stream",
          "name": "stdout",
          "text": [
            "========================================================================================================\n",
            "HEAD:\n",
            "  code_module code_presentation  id_student  date_registration  \\\n",
            "0         AAA             2013J       11391             -159.0   \n",
            "1         AAA             2013J       28400              -53.0   \n",
            "2         AAA             2013J       30268              -92.0   \n",
            "\n",
            "   date_unregistration  \n",
            "0                  NaN  \n",
            "1                  NaN  \n",
            "2                 12.0  \n",
            "--------------------------------------------------------------------------------------------------------\n",
            "SHAPE:\n",
            "(32593, 5)\n",
            "--------------------------------------------------------------------------------------------------------\n",
            "INFO:\n",
            "<class 'pandas.core.frame.DataFrame'>\n",
            "RangeIndex: 32593 entries, 0 to 32592\n",
            "Data columns (total 5 columns):\n",
            " #   Column               Non-Null Count  Dtype  \n",
            "---  ------               --------------  -----  \n",
            " 0   code_module          32593 non-null  object \n",
            " 1   code_presentation    32593 non-null  object \n",
            " 2   id_student           32593 non-null  int64  \n",
            " 3   date_registration    32548 non-null  float64\n",
            " 4   date_unregistration  10072 non-null  float64\n",
            "dtypes: float64(2), int64(1), object(2)\n",
            "memory usage: 1.2+ MB\n",
            "None\n",
            "--------------------------------------------------------------------------------------------------------\n",
            "DESCRIBE:\n",
            "         id_student  date_registration  date_unregistration\n",
            "count  3.259300e+04       32548.000000         10072.000000\n",
            "mean   7.066877e+05         -69.411300            49.757645\n",
            "std    5.491673e+05          49.260522            82.460890\n",
            "min    3.733000e+03        -322.000000          -365.000000\n",
            "25%    5.085730e+05        -100.000000            -2.000000\n",
            "50%    5.903100e+05         -57.000000            27.000000\n",
            "75%    6.444530e+05         -29.000000           109.000000\n",
            "max    2.716795e+06         167.000000           444.000000\n",
            "--------------------------------------------------------------------------------------------------------\n",
            "========================================================================================================\n"
          ]
        }
      ]
    },
    {
      "cell_type": "code",
      "source": [
        "vle_df = pd.read_csv('/content/vle.csv')\n",
        "show_basic_info(vle_df)"
      ],
      "metadata": {
        "colab": {
          "base_uri": "https://localhost:8080/"
        },
        "id": "j24xmm-y5Ot7",
        "outputId": "378701e8-2aa6-4696-fa2a-e6952b731b0f"
      },
      "execution_count": 10,
      "outputs": [
        {
          "output_type": "stream",
          "name": "stdout",
          "text": [
            "========================================================================================================\n",
            "HEAD:\n",
            "   id_site code_module code_presentation activity_type  week_from  week_to\n",
            "0   546943         AAA             2013J      resource        NaN      NaN\n",
            "1   546712         AAA             2013J     oucontent        NaN      NaN\n",
            "2   546998         AAA             2013J      resource        NaN      NaN\n",
            "--------------------------------------------------------------------------------------------------------\n",
            "SHAPE:\n",
            "(6364, 6)\n",
            "--------------------------------------------------------------------------------------------------------\n",
            "INFO:\n",
            "<class 'pandas.core.frame.DataFrame'>\n",
            "RangeIndex: 6364 entries, 0 to 6363\n",
            "Data columns (total 6 columns):\n",
            " #   Column             Non-Null Count  Dtype  \n",
            "---  ------             --------------  -----  \n",
            " 0   id_site            6364 non-null   int64  \n",
            " 1   code_module        6364 non-null   object \n",
            " 2   code_presentation  6364 non-null   object \n",
            " 3   activity_type      6364 non-null   object \n",
            " 4   week_from          1121 non-null   float64\n",
            " 5   week_to            1121 non-null   float64\n",
            "dtypes: float64(2), int64(1), object(3)\n",
            "memory usage: 298.4+ KB\n",
            "None\n",
            "--------------------------------------------------------------------------------------------------------\n",
            "DESCRIBE:\n",
            "            id_site    week_from      week_to\n",
            "count  6.364000e+03  1121.000000  1121.000000\n",
            "mean   7.260991e+05    15.204282    15.214987\n",
            "std    1.283151e+05     8.792865     8.779806\n",
            "min    5.267210e+05     0.000000     0.000000\n",
            "25%    6.615928e+05     8.000000     8.000000\n",
            "50%    7.300965e+05    15.000000    15.000000\n",
            "75%    8.140162e+05    22.000000    22.000000\n",
            "max    1.077905e+06    29.000000    29.000000\n",
            "--------------------------------------------------------------------------------------------------------\n",
            "========================================================================================================\n"
          ]
        }
      ]
    },
    {
      "cell_type": "markdown",
      "source": [
        "As the dataset for StudentVle is Hude we have sub the file into 8 parts so that it can be easly uploaded in Googlecolab"
      ],
      "metadata": {
        "id": "aWS1k_S861wk"
      }
    },
    {
      "cell_type": "code",
      "source": [
        "studentVle_df1 = pd.read_csv('/content/studentVle_0.csv')\n",
        "studentVle_df2 = pd.read_csv('/content/studentVle_1.csv')\n",
        "studentVle_df3 = pd.read_csv('/content/studentVle_2.csv')\n",
        "studentVle_df4 = pd.read_csv('/content/studentVle_3.csv')\n",
        "studentVle_df5 = pd.read_csv('/content/studentVle_4.csv')\n",
        "studentVle_df6 = pd.read_csv('/content/studentVle_5.csv')\n",
        "studentVle_df7 = pd.read_csv('/content/studentVle_6.csv')\n",
        "studentVle_df8 = pd.read_csv('/content/studentVle_7.csv')"
      ],
      "metadata": {
        "id": "PQuokik85PEs"
      },
      "execution_count": 11,
      "outputs": []
    },
    {
      "cell_type": "code",
      "source": [
        "studentVle_df = pd.concat([studentVle_df1,studentVle_df2, studentVle_df3, studentVle_df4, studentVle_df5, studentVle_df6, studentVle_df7, studentVle_df8])"
      ],
      "metadata": {
        "id": "-si3hBgE5kt8"
      },
      "execution_count": 12,
      "outputs": []
    },
    {
      "cell_type": "markdown",
      "source": [
        "**Exploratory Data Analysis**\n",
        "\n",
        "---\n",
        "\n"
      ],
      "metadata": {
        "id": "m5US9o-g8f_U"
      }
    },
    {
      "cell_type": "code",
      "source": [
        "#Checking gender distribution\n",
        "sns.countplot(studentInfo_df.gender);\n",
        "#this shows that courses data is almost equally distributed on gender"
      ],
      "metadata": {
        "colab": {
          "base_uri": "https://localhost:8080/",
          "height": 449
        },
        "id": "NOhoZKEe8YAU",
        "outputId": "7408bc4a-39b5-48d9-d1df-4fd201145485"
      },
      "execution_count": 13,
      "outputs": [
        {
          "output_type": "display_data",
          "data": {
            "text/plain": [
              "<Figure size 640x480 with 1 Axes>"
            ],
            "image/png": "[encoded data removed]"
          },
          "metadata": {}
        }
      ]
    },
    {
      "cell_type": "code",
      "source": [
        "#Now let's try the same on age\n",
        "studentInfo_df[['id_student', 'age_band']].groupby(by='age_band').count().plot.bar();\n",
        "#this shows majority of students fall in age band of 0-35\n"
      ],
      "metadata": {
        "colab": {
          "base_uri": "https://localhost:8080/",
          "height": 476
        },
        "id": "zBm5qruu8-Gr",
        "outputId": "eaa90678-9ba9-4e7b-d91c-c788b6f70f82"
      },
      "execution_count": 14,
      "outputs": [
        {
          "output_type": "display_data",
          "data": {
            "text/plain": [
              "<Figure size 640x480 with 1 Axes>"
            ],
            "image/png": "[encoded data removed]"
          },
          "metadata": {}
        }
      ]
    }
  ]
}